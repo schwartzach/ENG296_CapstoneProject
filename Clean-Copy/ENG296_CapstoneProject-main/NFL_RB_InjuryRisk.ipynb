{
 "cells": [
  {
   "cell_type": "markdown",
   "metadata": {},
   "source": [
    "## Part A: Data Collection \n",
    "\n",
    "RB Player Data is getting web scraped from ProFootballReference site between the years 2014-2024"
   ]
  },
  {
   "cell_type": "code",
   "execution_count": null,
   "metadata": {},
   "outputs": [],
   "source": [
    "import scrapy\n",
    "\n",
    "class PlayersSpider(scrapy.Spider):\n",
    "    name = \"rb_rushing\"\n",
    "    allowedDomain = [\"pro-football-reference.com\"]\n",
    "\n",
    "    def start_requests(self):\n",
    "        for year in range (2014, 2024):\n",
    "            url1 = f\"https://www.pro-football-reference.com/years/{year}/rushing.htm\"\n",
    "            yield scrapy.Request(\n",
    "                url=url1,\n",
    "                callback=self.parse_rushing,\n",
    "                meta={\"year\": year}\n",
    "            )\n",
    "\n",
    "            if year > 2017:\n",
    "                url2 = f\"https://www.pro-football-reference.com/years/{year}/rushing_advanced.htm\"\n",
    "                yield scrapy.Request(\n",
    "                    url=url2,\n",
    "                    callback=self.parse_advanced_rushing,\n",
    "                    meta={\"year\": year}\n",
    "                )\n",
    "    def parse_rushing(self, response):\n",
    "        year=response.meta['year']\n",
    "        for row in response.css(\"table#rushing tbody tr\"):\n",
    "            player=row.css(\"td[data-stat='player'] a::text\").get()\n",
    "            if not player:\n",
    "                continue\n",
    "            yield {\n",
    "                \"year\": year,\n",
    "                \"player\": player,\n",
    "                \"age\": row.css(\"td[data-stat='age'] a::text\").get(),\n",
    "                \"team\": row.css(\"td[data-stat='team'] a::text\").get(),\n",
    "                \"games\": row.css(\"td[data-stat='games'] ::text\").get(),\n",
    "                \"rush_att\": row.css(\"td[data-stat='rush_att']::text\").get(),\n",
    "                \"rush_yds\": row.css(\"td[data-stat='rush_yds']::text\").get(),\n",
    "                \"rush_td\": row.css(\"td[data-stat='rush_td']::text\").get(),\n",
    "                \"rush_success\": row.css(\"td[data-stat='rush_success']::text\").get(),\n",
    "\n",
    "\n",
    "                }"
   ]
  },
  {
   "cell_type": "code",
   "execution_count": null,
   "metadata": {},
   "outputs": [],
   "source": []
  }
 ],
 "metadata": {
  "kernelspec": {
   "display_name": "Python 3",
   "language": "python",
   "name": "python3"
  },
  "language_info": {
   "codemirror_mode": {
    "name": "ipython",
    "version": 3
   },
   "file_extension": ".py",
   "mimetype": "text/x-python",
   "name": "python",
   "nbconvert_exporter": "python",
   "pygments_lexer": "ipython3",
   "version": "3.10.4"
  }
 },
 "nbformat": 4,
 "nbformat_minor": 2
}
